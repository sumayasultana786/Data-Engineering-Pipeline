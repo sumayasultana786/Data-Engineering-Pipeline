{
  "nbformat": 4,
  "nbformat_minor": 0,
  "metadata": {
    "colab": {
      "provenance": [],
      "authorship_tag": "ABX9TyMXo+oKVExh/R0YTsZh+L8K",
      "include_colab_link": true
    },
    "kernelspec": {
      "name": "python3",
      "display_name": "Python 3"
    },
    "language_info": {
      "name": "python"
    }
  },
  "cells": [
    {
      "cell_type": "markdown",
      "metadata": {
        "id": "view-in-github",
        "colab_type": "text"
      },
      "source": [
        "<a href=\"https://colab.research.google.com/github/sumayasultana786/Data-Engineering-Pipeline/blob/main/Pyspark.ipynb\" target=\"_parent\"><img src=\"https://colab.research.google.com/assets/colab-badge.svg\" alt=\"Open In Colab\"/></a>"
      ]
    },
    {
      "cell_type": "code",
      "execution_count": 2,
      "metadata": {
        "colab": {
          "base_uri": "https://localhost:8080/",
          "height": 0
        },
        "id": "FNFKeyCuPmvj",
        "outputId": "cf45eaf1-807a-4ff1-ea42-1bade1a18849"
      },
      "outputs": [
        {
          "output_type": "stream",
          "name": "stdout",
          "text": [
            "Collecting pyspark\n",
            "  Downloading pyspark-3.5.0.tar.gz (316.9 MB)\n",
            "\u001b[2K     \u001b[90m━━━━━━━━━━━━━━━━━━━━━━━━━━━━━━━━━━━━━━━━\u001b[0m \u001b[32m316.9/316.9 MB\u001b[0m \u001b[31m3.7 MB/s\u001b[0m eta \u001b[36m0:00:00\u001b[0m\n",
            "\u001b[?25h  Preparing metadata (setup.py) ... \u001b[?25l\u001b[?25hdone\n",
            "Requirement already satisfied: py4j==0.10.9.7 in /usr/local/lib/python3.10/dist-packages (from pyspark) (0.10.9.7)\n",
            "Building wheels for collected packages: pyspark\n",
            "  Building wheel for pyspark (setup.py) ... \u001b[?25l\u001b[?25hdone\n",
            "  Created wheel for pyspark: filename=pyspark-3.5.0-py2.py3-none-any.whl size=317425344 sha256=a4ccdf504ee9fcd4df3c08069a260b26cc9a4fd1829b5f106408b91609d1a4b2\n",
            "  Stored in directory: /root/.cache/pip/wheels/41/4e/10/c2cf2467f71c678cfc8a6b9ac9241e5e44a01940da8fbb17fc\n",
            "Successfully built pyspark\n",
            "Installing collected packages: pyspark\n",
            "Successfully installed pyspark-3.5.0\n"
          ]
        }
      ],
      "source": [
        "!pip install pyspark"
      ]
    },
    {
      "cell_type": "code",
      "source": [
        "import pyspark\n",
        "from pyspark.sql.functions import *"
      ],
      "metadata": {
        "id": "gXxN5hbYRlkT"
      },
      "execution_count": 3,
      "outputs": []
    },
    {
      "cell_type": "code",
      "source": [
        "from pyspark import SparkContext, SparkConf\n",
        "from pyspark.sql import SparkSession\n",
        "conf = pyspark.SparkConf().setAppName(\"app\").setMaster(\"local\")\n",
        "sc = pyspark.SparkContext(conf=conf)\n",
        "spark = SparkSession(sc)"
      ],
      "metadata": {
        "id": "Y8-s_IkpSAWE"
      },
      "execution_count": 4,
      "outputs": []
    },
    {
      "cell_type": "code",
      "source": [
        "data = spark.read.csv (\"car_data.csv\", header = True, inferSchema = True)"
      ],
      "metadata": {
        "id": "wv33NNyMSHb4"
      },
      "execution_count": 20,
      "outputs": []
    },
    {
      "cell_type": "code",
      "source": [
        "data.show(5)"
      ],
      "metadata": {
        "colab": {
          "base_uri": "https://localhost:8080/",
          "height": 0
        },
        "id": "Ygpgaei2VTs_",
        "outputId": "b94eba5a-4484-4f45-bc09-5f9737ea1635"
      },
      "execution_count": 6,
      "outputs": [
        {
          "output_type": "stream",
          "name": "stdout",
          "text": [
            "+--------+----+-------------+-------------+----------+---------+-----------+------------+\n",
            "|Car_Name|Year|Selling_Price|Present_Price|Kms_Driven|Fuel_Type|Seller_Type|Transmission|\n",
            "+--------+----+-------------+-------------+----------+---------+-----------+------------+\n",
            "|    ritz|2014|         3.35|         5.59|     27000|   Petrol|     Dealer|      Manual|\n",
            "|     sx4|2013|         4.75|         9.54|     43000|   Diesel|     Dealer|      Manual|\n",
            "|    ciaz|2017|         7.25|         9.85|      6900|   Petrol|     Dealer|      Manual|\n",
            "| wagon r|2011|         2.85|         4.15|      5200|   Petrol|     Dealer|      Manual|\n",
            "|   swift|2014|          4.6|         6.87|     42450|   Diesel|     Dealer|      Manual|\n",
            "+--------+----+-------------+-------------+----------+---------+-----------+------------+\n",
            "only showing top 5 rows\n",
            "\n"
          ]
        }
      ]
    },
    {
      "cell_type": "code",
      "source": [
        "type(data)"
      ],
      "metadata": {
        "colab": {
          "base_uri": "https://localhost:8080/",
          "height": 0
        },
        "id": "bpjnsHBrWVmw",
        "outputId": "ec931525-9b0d-4582-eef4-06a46c17df0f"
      },
      "execution_count": 7,
      "outputs": [
        {
          "output_type": "execute_result",
          "data": {
            "text/plain": [
              "pyspark.sql.dataframe.DataFrame"
            ]
          },
          "metadata": {},
          "execution_count": 7
        }
      ]
    },
    {
      "cell_type": "code",
      "source": [
        "len(data.columns)"
      ],
      "metadata": {
        "colab": {
          "base_uri": "https://localhost:8080/",
          "height": 0
        },
        "id": "SsE2E3RyBZ51",
        "outputId": "98c8b14c-9441-447c-8c49-8f3a7a8523f9"
      },
      "execution_count": 8,
      "outputs": [
        {
          "output_type": "execute_result",
          "data": {
            "text/plain": [
              "8"
            ]
          },
          "metadata": {},
          "execution_count": 8
        }
      ]
    },
    {
      "cell_type": "code",
      "source": [
        "list(data.columns)"
      ],
      "metadata": {
        "colab": {
          "base_uri": "https://localhost:8080/",
          "height": 0
        },
        "id": "dDKRVcmkBgj5",
        "outputId": "03a23cc4-add7-448e-e1ea-8a64a322350f"
      },
      "execution_count": 9,
      "outputs": [
        {
          "output_type": "execute_result",
          "data": {
            "text/plain": [
              "['Car_Name',\n",
              " 'Year',\n",
              " 'Selling_Price',\n",
              " 'Present_Price',\n",
              " 'Kms_Driven',\n",
              " 'Fuel_Type',\n",
              " 'Seller_Type',\n",
              " 'Transmission']"
            ]
          },
          "metadata": {},
          "execution_count": 9
        }
      ]
    },
    {
      "cell_type": "code",
      "source": [
        "data.select(\"Car_Name\", \"Year\").show()"
      ],
      "metadata": {
        "colab": {
          "base_uri": "https://localhost:8080/",
          "height": 0
        },
        "id": "QDz2XPeMS8xO",
        "outputId": "f4e75f9b-5f7d-48aa-9b8e-2391ee7ac867"
      },
      "execution_count": 10,
      "outputs": [
        {
          "output_type": "stream",
          "name": "stdout",
          "text": [
            "+-------------+----+\n",
            "|     Car_Name|Year|\n",
            "+-------------+----+\n",
            "|         ritz|2014|\n",
            "|          sx4|2013|\n",
            "|         ciaz|2017|\n",
            "|      wagon r|2011|\n",
            "|        swift|2014|\n",
            "|vitara brezza|2018|\n",
            "|         ciaz|2015|\n",
            "|      s cross|2015|\n",
            "|         ciaz|2016|\n",
            "|         ciaz|2015|\n",
            "|     alto 800|2017|\n",
            "|         ciaz|2015|\n",
            "|         ciaz|2015|\n",
            "|       ertiga|2015|\n",
            "|        dzire|2009|\n",
            "|       ertiga|2016|\n",
            "|       ertiga|2015|\n",
            "|       ertiga|2016|\n",
            "|      wagon r|2015|\n",
            "|          sx4|2010|\n",
            "+-------------+----+\n",
            "only showing top 20 rows\n",
            "\n"
          ]
        }
      ]
    },
    {
      "cell_type": "code",
      "source": [
        "data.select(\"*\").filter(col('Year') == 2017).show()"
      ],
      "metadata": {
        "colab": {
          "base_uri": "https://localhost:8080/",
          "height": 0
        },
        "id": "F2j8QtPVTpgO",
        "outputId": "f2677c82-d529-493f-afef-922cb989679e"
      },
      "execution_count": 11,
      "outputs": [
        {
          "output_type": "stream",
          "name": "stdout",
          "text": [
            "+--------------------+----+-------------+-------------+----------+---------+-----------+------------+\n",
            "|            Car_Name|Year|Selling_Price|Present_Price|Kms_Driven|Fuel_Type|Seller_Type|Transmission|\n",
            "+--------------------+----+-------------+-------------+----------+---------+-----------+------------+\n",
            "|                ciaz|2017|         7.25|         9.85|      6900|   Petrol|     Dealer|      Manual|\n",
            "|            alto 800|2017|         2.85|          3.6|      2135|   Petrol|     Dealer|      Manual|\n",
            "|               ignis|2017|          4.9|         5.71|      2400|   Petrol|     Dealer|      Manual|\n",
            "|               swift|2017|            6|         6.49|     16200|   Petrol| Individual|      Manual|\n",
            "|                ciaz|2017|         7.75|         9.29|     37000|   Petrol|     Dealer|   Automatic|\n",
            "|              innova|2017|           18|        19.77|     15000|   Diesel|     Dealer|   Automatic|\n",
            "|            fortuner|2017|           33|        36.23|      6000|   Diesel|     Dealer|   Automatic|\n",
            "|              innova|2017|        19.75|        23.15|     11000|   Petrol|     Dealer|   Automatic|\n",
            "|              innova|2017|           23|        25.39|     15000|   Diesel|     Dealer|   Automatic|\n",
            "|       corolla altis|2017|           17|        18.64|      8700|   Petrol|     Dealer|      Manual|\n",
            "|  UM Renegade Mojave|2017|          1.7|         1.82|      1400|   Petrol| Individual|      Manual|\n",
            "|           KTM RC200|2017|         1.65|         1.78|      4000|   Petrol| Individual|      Manual|\n",
            "|   Bajaj Dominar 400|2017|         1.45|          1.6|      1200|   Petrol| Individual|      Manual|\n",
            "|Royal Enfield Cla...|2017|         1.35|         1.47|      4100|   Petrol| Individual|      Manual|\n",
            "|Royal Enfield Cla...|2017|          1.2|         1.47|     11000|   Petrol| Individual|      Manual|\n",
            "|   Bajaj Avenger 220|2017|          0.9|         0.95|      1300|   Petrol| Individual|      Manual|\n",
            "|Honda CB Hornet 160R|2017|          0.8|         0.87|      3000|   Petrol| Individual|      Manual|\n",
            "|   Yamaha FZ S V 2.0|2017|         0.78|         0.84|      5000|   Petrol| Individual|      Manual|\n",
            "|Honda CB Hornet 160R|2017|         0.75|         0.87|     11000|   Petrol| Individual|      Manual|\n",
            "|   Bajaj Avenger 220|2017|         0.75|         0.95|      3500|   Petrol| Individual|      Manual|\n",
            "+--------------------+----+-------------+-------------+----------+---------+-----------+------------+\n",
            "only showing top 20 rows\n",
            "\n"
          ]
        }
      ]
    },
    {
      "cell_type": "code",
      "source": [
        "data.select(\"Fuel_Type\").distinct().show()"
      ],
      "metadata": {
        "colab": {
          "base_uri": "https://localhost:8080/",
          "height": 0
        },
        "id": "sBBKQer3XZZE",
        "outputId": "908cd711-cea1-4bf5-968b-e0e00c785c26"
      },
      "execution_count": 12,
      "outputs": [
        {
          "output_type": "stream",
          "name": "stdout",
          "text": [
            "+---------+\n",
            "|Fuel_Type|\n",
            "+---------+\n",
            "|   Diesel|\n",
            "|      CNG|\n",
            "|   Petrol|\n",
            "+---------+\n",
            "\n"
          ]
        }
      ]
    },
    {
      "cell_type": "code",
      "source": [
        "data.select(\"*\").filter( (col('Year') == 2017) & (col('Fuel_Type') == 'Petrol')).show(5)"
      ],
      "metadata": {
        "colab": {
          "base_uri": "https://localhost:8080/",
          "height": 0
        },
        "id": "PqmIwFijZkrl",
        "outputId": "d7a4be83-901a-4957-9cd1-0073183c1a0a"
      },
      "execution_count": 13,
      "outputs": [
        {
          "output_type": "stream",
          "name": "stdout",
          "text": [
            "+--------+----+-------------+-------------+----------+---------+-----------+------------+\n",
            "|Car_Name|Year|Selling_Price|Present_Price|Kms_Driven|Fuel_Type|Seller_Type|Transmission|\n",
            "+--------+----+-------------+-------------+----------+---------+-----------+------------+\n",
            "|    ciaz|2017|         7.25|         9.85|      6900|   Petrol|     Dealer|      Manual|\n",
            "|alto 800|2017|         2.85|          3.6|      2135|   Petrol|     Dealer|      Manual|\n",
            "|   ignis|2017|          4.9|         5.71|      2400|   Petrol|     Dealer|      Manual|\n",
            "|   swift|2017|            6|         6.49|     16200|   Petrol| Individual|      Manual|\n",
            "|    ciaz|2017|         7.75|         9.29|     37000|   Petrol|     Dealer|   Automatic|\n",
            "+--------+----+-------------+-------------+----------+---------+-----------+------------+\n",
            "only showing top 5 rows\n",
            "\n"
          ]
        }
      ]
    },
    {
      "cell_type": "code",
      "source": [
        "data.select(\"Car_Name\", \"Year\", \"Selling_Price\").filter( (col('Year') == 2017) & (col('Fuel_Type') == 'Petrol')).show(5)"
      ],
      "metadata": {
        "colab": {
          "base_uri": "https://localhost:8080/",
          "height": 0
        },
        "id": "DU5qZi8yUs6O",
        "outputId": "3d200b83-b001-437f-ac89-dccd37cb3c22"
      },
      "execution_count": 14,
      "outputs": [
        {
          "output_type": "stream",
          "name": "stdout",
          "text": [
            "+--------+----+-------------+\n",
            "|Car_Name|Year|Selling_Price|\n",
            "+--------+----+-------------+\n",
            "|    ciaz|2017|         7.25|\n",
            "|alto 800|2017|         2.85|\n",
            "|   ignis|2017|          4.9|\n",
            "|   swift|2017|            6|\n",
            "|    ciaz|2017|         7.75|\n",
            "+--------+----+-------------+\n",
            "only showing top 5 rows\n",
            "\n"
          ]
        }
      ]
    },
    {
      "cell_type": "code",
      "source": [
        "data.select(\"*\").orderBy(\"Selling_Price\", ascending = False). show(10)"
      ],
      "metadata": {
        "colab": {
          "base_uri": "https://localhost:8080/",
          "height": 0
        },
        "id": "VZnF1d9iV8L1",
        "outputId": "c5b52607-79cf-4471-f143-a2d9e176f4ae"
      },
      "execution_count": 16,
      "outputs": [
        {
          "output_type": "stream",
          "name": "stdout",
          "text": [
            "+-------------+----+-------------+-------------+----------+---------+-----------+------------+\n",
            "|     Car_Name|Year|Selling_Price|Present_Price|Kms_Driven|Fuel_Type|Seller_Type|Transmission|\n",
            "+-------------+----+-------------+-------------+----------+---------+-----------+------------+\n",
            "|         city|2015|          9.7|         13.6|     21780|   Petrol|     Dealer|      Manual|\n",
            "|     fortuner|2010|         9.65|        20.45|     50024|   Diesel|     Dealer|      Manual|\n",
            "|         city|2016|          9.5|         11.6|     33988|   Diesel|     Dealer|      Manual|\n",
            "|vitara brezza|2018|         9.25|         9.83|      2071|   Diesel|     Dealer|      Manual|\n",
            "|        verna|2017|         9.25|          9.4|     15001|   Petrol|     Dealer|      Manual|\n",
            "|     fortuner|2010|         9.25|        20.45|     59000|   Diesel|     Dealer|      Manual|\n",
            "|         city|2016|         9.15|         13.6|     29223|   Petrol|     Dealer|      Manual|\n",
            "|        verna|2017|          9.1|          9.4|     15141|   Petrol|     Dealer|      Manual|\n",
            "|         city|2016|         8.99|         11.8|      9010|   Petrol|     Dealer|      Manual|\n",
            "|         ciaz|2016|         8.75|         8.89|     20273|   Diesel|     Dealer|      Manual|\n",
            "+-------------+----+-------------+-------------+----------+---------+-----------+------------+\n",
            "only showing top 10 rows\n",
            "\n"
          ]
        }
      ]
    },
    {
      "cell_type": "code",
      "source": [
        "data.dtypes"
      ],
      "metadata": {
        "colab": {
          "base_uri": "https://localhost:8080/",
          "height": 0
        },
        "id": "IjjO1N_K-7c4",
        "outputId": "1800b92f-40b8-4b45-a11d-9b4581beb489"
      },
      "execution_count": 21,
      "outputs": [
        {
          "output_type": "execute_result",
          "data": {
            "text/plain": [
              "[('Car_Name', 'string'),\n",
              " ('Year', 'int'),\n",
              " ('Selling_Price', 'double'),\n",
              " ('Present_Price', 'double'),\n",
              " ('Kms_Driven', 'int'),\n",
              " ('Fuel_Type', 'string'),\n",
              " ('Seller_Type', 'string'),\n",
              " ('Transmission', 'string')]"
            ]
          },
          "metadata": {},
          "execution_count": 21
        }
      ]
    },
    {
      "cell_type": "code",
      "source": [
        "# when loading data from csv everything loads as string, add inferSchema parameter while reading the file"
      ],
      "metadata": {
        "id": "zbH4RtS-_OH4"
      },
      "execution_count": 18,
      "outputs": []
    },
    {
      "cell_type": "code",
      "source": [
        "data.select(\"*\").orderBy(\"Selling_Price\", ascending = False). show(10)"
      ],
      "metadata": {
        "colab": {
          "base_uri": "https://localhost:8080/",
          "height": 0
        },
        "id": "IajX1dyH_hjb",
        "outputId": "c5659722-c21a-42bf-b220-8ccf635c820a"
      },
      "execution_count": 22,
      "outputs": [
        {
          "output_type": "stream",
          "name": "stdout",
          "text": [
            "+------------+----+-------------+-------------+----------+---------+-----------+------------+\n",
            "|    Car_Name|Year|Selling_Price|Present_Price|Kms_Driven|Fuel_Type|Seller_Type|Transmission|\n",
            "+------------+----+-------------+-------------+----------+---------+-----------+------------+\n",
            "|land cruiser|2010|         35.0|         92.6|     78000|   Diesel|     Dealer|      Manual|\n",
            "|    fortuner|2017|         33.0|        36.23|      6000|   Diesel|     Dealer|   Automatic|\n",
            "|    fortuner|2015|         23.5|        35.96|     47000|   Diesel|     Dealer|   Automatic|\n",
            "|    fortuner|2015|         23.0|        30.61|     40000|   Diesel|     Dealer|   Automatic|\n",
            "|    fortuner|2015|         23.0|        30.61|     40000|   Diesel|     Dealer|   Automatic|\n",
            "|      innova|2017|         23.0|        25.39|     15000|   Diesel|     Dealer|   Automatic|\n",
            "|      innova|2016|        20.75|        25.39|     29000|   Diesel|     Dealer|   Automatic|\n",
            "|    fortuner|2014|        19.99|        35.96|     41000|   Diesel|     Dealer|   Automatic|\n",
            "|      innova|2017|        19.75|        23.15|     11000|   Petrol|     Dealer|   Automatic|\n",
            "|    fortuner|2014|        18.75|        35.96|     78000|   Diesel|     Dealer|   Automatic|\n",
            "+------------+----+-------------+-------------+----------+---------+-----------+------------+\n",
            "only showing top 10 rows\n",
            "\n"
          ]
        }
      ]
    },
    {
      "cell_type": "code",
      "source": [
        "data.select(\"*\").filter( col('Year') == 2017).count()"
      ],
      "metadata": {
        "colab": {
          "base_uri": "https://localhost:8080/",
          "height": 0
        },
        "id": "CJ_YQs8p_z8v",
        "outputId": "4b3023b8-54ba-4c4c-f0a9-dd57c15b61a1"
      },
      "execution_count": 23,
      "outputs": [
        {
          "output_type": "execute_result",
          "data": {
            "text/plain": [
              "35"
            ]
          },
          "metadata": {},
          "execution_count": 23
        }
      ]
    },
    {
      "cell_type": "code",
      "source": [
        "data.select(\"*\").groupby(\"Year\").count().show()"
      ],
      "metadata": {
        "colab": {
          "base_uri": "https://localhost:8080/",
          "height": 0
        },
        "id": "32StxdQNP_UQ",
        "outputId": "48e190e1-3b96-4ab6-f210-7ade0df5eb87"
      },
      "execution_count": 25,
      "outputs": [
        {
          "output_type": "stream",
          "name": "stdout",
          "text": [
            "+----+-----+\n",
            "|Year|count|\n",
            "+----+-----+\n",
            "|2003|    2|\n",
            "|2007|    2|\n",
            "|2018|    1|\n",
            "|2015|   61|\n",
            "|2006|    4|\n",
            "|2013|   33|\n",
            "|2014|   38|\n",
            "|2004|    1|\n",
            "|2012|   23|\n",
            "|2009|    6|\n",
            "|2016|   50|\n",
            "|2005|    4|\n",
            "|2010|   15|\n",
            "|2011|   19|\n",
            "|2008|    7|\n",
            "|2017|   35|\n",
            "+----+-----+\n",
            "\n"
          ]
        }
      ]
    },
    {
      "cell_type": "code",
      "source": [
        "#writing sql in pyspark\n",
        "data.createOrReplaceTempView(\"CarDataTb\")"
      ],
      "metadata": {
        "id": "5cKf__1dRNvs"
      },
      "execution_count": 26,
      "outputs": []
    },
    {
      "cell_type": "code",
      "source": [
        "#notice the camel case in pyspark"
      ],
      "metadata": {
        "id": "GXMqZiO2SDNd"
      },
      "execution_count": 27,
      "outputs": []
    },
    {
      "cell_type": "code",
      "source": [
        "spark.sql(\"select * from CarDataTb\").show(5)"
      ],
      "metadata": {
        "colab": {
          "base_uri": "https://localhost:8080/",
          "height": 0
        },
        "id": "LPJ9eT2WSQWA",
        "outputId": "2800bcfd-89c1-4a5d-8ca6-f8d42e3ab2b8"
      },
      "execution_count": 28,
      "outputs": [
        {
          "output_type": "stream",
          "name": "stdout",
          "text": [
            "+--------+----+-------------+-------------+----------+---------+-----------+------------+\n",
            "|Car_Name|Year|Selling_Price|Present_Price|Kms_Driven|Fuel_Type|Seller_Type|Transmission|\n",
            "+--------+----+-------------+-------------+----------+---------+-----------+------------+\n",
            "|    ritz|2014|         3.35|         5.59|     27000|   Petrol|     Dealer|      Manual|\n",
            "|     sx4|2013|         4.75|         9.54|     43000|   Diesel|     Dealer|      Manual|\n",
            "|    ciaz|2017|         7.25|         9.85|      6900|   Petrol|     Dealer|      Manual|\n",
            "| wagon r|2011|         2.85|         4.15|      5200|   Petrol|     Dealer|      Manual|\n",
            "|   swift|2014|          4.6|         6.87|     42450|   Diesel|     Dealer|      Manual|\n",
            "+--------+----+-------------+-------------+----------+---------+-----------+------------+\n",
            "only showing top 5 rows\n",
            "\n"
          ]
        }
      ]
    },
    {
      "cell_type": "code",
      "source": [
        "spark.sql(\"select Car_Name, Year from CarDataTb\").show(5)"
      ],
      "metadata": {
        "colab": {
          "base_uri": "https://localhost:8080/",
          "height": 0
        },
        "id": "5aX_HBq5Sc2-",
        "outputId": "2b56a009-dcbb-427a-aa41-3c142dfcfe65"
      },
      "execution_count": 29,
      "outputs": [
        {
          "output_type": "stream",
          "name": "stdout",
          "text": [
            "+--------+----+\n",
            "|Car_Name|Year|\n",
            "+--------+----+\n",
            "|    ritz|2014|\n",
            "|     sx4|2013|\n",
            "|    ciaz|2017|\n",
            "| wagon r|2011|\n",
            "|   swift|2014|\n",
            "+--------+----+\n",
            "only showing top 5 rows\n",
            "\n"
          ]
        }
      ]
    },
    {
      "cell_type": "code",
      "source": [
        "spark.sql(\"select Year, count(*) from CarDataTb group by Year\").show(5)"
      ],
      "metadata": {
        "colab": {
          "base_uri": "https://localhost:8080/",
          "height": 0
        },
        "id": "dtiDfQTcSmQ_",
        "outputId": "b9d0f2a7-ecce-4f32-b1e5-c692f29ac1a3"
      },
      "execution_count": 30,
      "outputs": [
        {
          "output_type": "stream",
          "name": "stdout",
          "text": [
            "+----+--------+\n",
            "|Year|count(1)|\n",
            "+----+--------+\n",
            "|2003|       2|\n",
            "|2007|       2|\n",
            "|2018|       1|\n",
            "|2015|      61|\n",
            "|2006|       4|\n",
            "+----+--------+\n",
            "only showing top 5 rows\n",
            "\n"
          ]
        }
      ]
    },
    {
      "cell_type": "code",
      "source": [
        "spark.sql(\"select Year, Fuel_Type, count(*) from CarDataTb group by Year, Fuel_Type order by Year, Fuel_Type\").show(5)"
      ],
      "metadata": {
        "colab": {
          "base_uri": "https://localhost:8080/",
          "height": 0
        },
        "id": "2RO47MBeS4oG",
        "outputId": "e2cd1c2c-8300-4dd6-eb01-edd3054249db"
      },
      "execution_count": 32,
      "outputs": [
        {
          "output_type": "stream",
          "name": "stdout",
          "text": [
            "+----+---------+--------+\n",
            "|Year|Fuel_Type|count(1)|\n",
            "+----+---------+--------+\n",
            "|2003|   Petrol|       2|\n",
            "|2004|   Petrol|       1|\n",
            "|2005|   Diesel|       1|\n",
            "|2005|   Petrol|       3|\n",
            "|2006|   Petrol|       4|\n",
            "+----+---------+--------+\n",
            "only showing top 5 rows\n",
            "\n"
          ]
        }
      ]
    },
    {
      "cell_type": "code",
      "source": [
        "#old method\n",
        "data.select(\"*\").filter( (col('Year') == 2017) & (col('Fuel_Type') == 'Petrol')).show(5)"
      ],
      "metadata": {
        "colab": {
          "base_uri": "https://localhost:8080/",
          "height": 0
        },
        "id": "uWji_rRZTbOl",
        "outputId": "c08a0699-e2ca-4126-89ec-1c53c2660a60"
      },
      "execution_count": 33,
      "outputs": [
        {
          "output_type": "stream",
          "name": "stdout",
          "text": [
            "+--------+----+-------------+-------------+----------+---------+-----------+------------+\n",
            "|Car_Name|Year|Selling_Price|Present_Price|Kms_Driven|Fuel_Type|Seller_Type|Transmission|\n",
            "+--------+----+-------------+-------------+----------+---------+-----------+------------+\n",
            "|    ciaz|2017|         7.25|         9.85|      6900|   Petrol|     Dealer|      Manual|\n",
            "|alto 800|2017|         2.85|          3.6|      2135|   Petrol|     Dealer|      Manual|\n",
            "|   ignis|2017|          4.9|         5.71|      2400|   Petrol|     Dealer|      Manual|\n",
            "|   swift|2017|          6.0|         6.49|     16200|   Petrol| Individual|      Manual|\n",
            "|    ciaz|2017|         7.75|         9.29|     37000|   Petrol|     Dealer|   Automatic|\n",
            "+--------+----+-------------+-------------+----------+---------+-----------+------------+\n",
            "only showing top 5 rows\n",
            "\n"
          ]
        }
      ]
    },
    {
      "cell_type": "code",
      "source": [
        "#spark sql method\n",
        "spark.sql(\"Select * from CarDataTb where year = 2017 and fuel_type = 'Petrol'\").show(5)"
      ],
      "metadata": {
        "colab": {
          "base_uri": "https://localhost:8080/",
          "height": 0
        },
        "id": "y2ErPjyZUGVT",
        "outputId": "bc6b624d-6fad-4bb9-df90-1a0adcf9e5c0"
      },
      "execution_count": 35,
      "outputs": [
        {
          "output_type": "stream",
          "name": "stdout",
          "text": [
            "+--------+----+-------------+-------------+----------+---------+-----------+------------+\n",
            "|Car_Name|Year|Selling_Price|Present_Price|Kms_Driven|Fuel_Type|Seller_Type|Transmission|\n",
            "+--------+----+-------------+-------------+----------+---------+-----------+------------+\n",
            "|    ciaz|2017|         7.25|         9.85|      6900|   Petrol|     Dealer|      Manual|\n",
            "|alto 800|2017|         2.85|          3.6|      2135|   Petrol|     Dealer|      Manual|\n",
            "|   ignis|2017|          4.9|         5.71|      2400|   Petrol|     Dealer|      Manual|\n",
            "|   swift|2017|          6.0|         6.49|     16200|   Petrol| Individual|      Manual|\n",
            "|    ciaz|2017|         7.75|         9.29|     37000|   Petrol|     Dealer|   Automatic|\n",
            "+--------+----+-------------+-------------+----------+---------+-----------+------------+\n",
            "only showing top 5 rows\n",
            "\n"
          ]
        }
      ]
    },
    {
      "cell_type": "code",
      "source": [
        "#VIFI\n",
        "# Any question practive in 3 formats - Sql, Pandas Datframe, Spark dataframe, (Spark sql is a given)"
      ],
      "metadata": {
        "id": "Cx9r-rFiUIR5"
      },
      "execution_count": 36,
      "outputs": []
    },
    {
      "cell_type": "code",
      "source": [
        "spark.sql(\"select Year, count(*) as total_cars from CarDataTb group by Year, Fuel_Type order by count(*) desc \").show(5)"
      ],
      "metadata": {
        "colab": {
          "base_uri": "https://localhost:8080/",
          "height": 0
        },
        "id": "IKd_mg6MVdhN",
        "outputId": "da757d33-42d6-47b2-f92c-b8f11e8c5c0c"
      },
      "execution_count": 37,
      "outputs": [
        {
          "output_type": "stream",
          "name": "stdout",
          "text": [
            "+----+----------+\n",
            "|Year|total_cars|\n",
            "+----+----------+\n",
            "|2015|        45|\n",
            "|2016|        42|\n",
            "|2017|        31|\n",
            "|2013|        28|\n",
            "|2014|        24|\n",
            "+----+----------+\n",
            "only showing top 5 rows\n",
            "\n"
          ]
        }
      ]
    },
    {
      "cell_type": "code",
      "source": [],
      "metadata": {
        "id": "gTFtt6WKVrPJ"
      },
      "execution_count": null,
      "outputs": []
    }
  ]
}