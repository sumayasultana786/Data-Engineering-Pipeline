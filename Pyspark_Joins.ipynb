{
  "nbformat": 4,
  "nbformat_minor": 0,
  "metadata": {
    "colab": {
      "provenance": [],
      "authorship_tag": "ABX9TyOPzad/yDDibwx8HUpyX6b7",
      "include_colab_link": true
    },
    "kernelspec": {
      "name": "python3",
      "display_name": "Python 3"
    },
    "language_info": {
      "name": "python"
    }
  },
  "cells": [
    {
      "cell_type": "markdown",
      "metadata": {
        "id": "view-in-github",
        "colab_type": "text"
      },
      "source": [
        "<a href=\"https://colab.research.google.com/github/sumayasultana786/Data-Engineering-Pipeline/blob/main/Pyspark_Joins.ipynb\" target=\"_parent\"><img src=\"https://colab.research.google.com/assets/colab-badge.svg\" alt=\"Open In Colab\"/></a>"
      ]
    },
    {
      "cell_type": "code",
      "source": [
        "!pip install pyspark"
      ],
      "metadata": {
        "colab": {
          "base_uri": "https://localhost:8080/"
        },
        "id": "VroUcTRE9ZpN",
        "outputId": "e5e81b53-ebaf-4ebb-fea9-624de7290098"
      },
      "execution_count": 2,
      "outputs": [
        {
          "output_type": "stream",
          "name": "stdout",
          "text": [
            "Collecting pyspark\n",
            "  Downloading pyspark-3.5.0.tar.gz (316.9 MB)\n",
            "\u001b[2K     \u001b[90m━━━━━━━━━━━━━━━━━━━━━━━━━━━━━━━━━━━━━━━━\u001b[0m \u001b[32m316.9/316.9 MB\u001b[0m \u001b[31m4.1 MB/s\u001b[0m eta \u001b[36m0:00:00\u001b[0m\n",
            "\u001b[?25h  Preparing metadata (setup.py) ... \u001b[?25l\u001b[?25hdone\n",
            "Requirement already satisfied: py4j==0.10.9.7 in /usr/local/lib/python3.10/dist-packages (from pyspark) (0.10.9.7)\n",
            "Building wheels for collected packages: pyspark\n",
            "  Building wheel for pyspark (setup.py) ... \u001b[?25l\u001b[?25hdone\n",
            "  Created wheel for pyspark: filename=pyspark-3.5.0-py2.py3-none-any.whl size=317425344 sha256=1ee48b92eedf4705fba41039ab93bf07713a48f87a22b84b92cc436c5590cc12\n",
            "  Stored in directory: /root/.cache/pip/wheels/41/4e/10/c2cf2467f71c678cfc8a6b9ac9241e5e44a01940da8fbb17fc\n",
            "Successfully built pyspark\n",
            "Installing collected packages: pyspark\n",
            "Successfully installed pyspark-3.5.0\n"
          ]
        }
      ]
    },
    {
      "cell_type": "code",
      "source": [
        "import pyspark\n",
        "from pyspark.sql.functions import *"
      ],
      "metadata": {
        "id": "fkE1_2019kg3"
      },
      "execution_count": 3,
      "outputs": []
    },
    {
      "cell_type": "code",
      "source": [
        "from pyspark import SparkContext, SparkConf\n",
        "from pyspark.sql import SparkSession\n",
        "conf = pyspark.SparkConf().setAppName(\"app\").setMaster(\"local\")\n",
        "sc = pyspark.SparkContext(conf=conf)\n",
        "spark = SparkSession(sc)"
      ],
      "metadata": {
        "id": "DkY2YVnj9uqr"
      },
      "execution_count": 4,
      "outputs": []
    },
    {
      "cell_type": "code",
      "source": [
        "employee = spark.read.csv(\"Emp1.csv\", header = True, inferSchema = True)"
      ],
      "metadata": {
        "id": "lwuDP0wj-Lwt"
      },
      "execution_count": 5,
      "outputs": []
    },
    {
      "cell_type": "code",
      "source": [
        "training = spark.read.csv(\"Training_Data1.csv\", header = True, inferSchema = True)"
      ],
      "metadata": {
        "id": "3gc8PBrVECP9"
      },
      "execution_count": 6,
      "outputs": []
    },
    {
      "cell_type": "code",
      "source": [
        "employee.show(4)"
      ],
      "metadata": {
        "colab": {
          "base_uri": "https://localhost:8080/"
        },
        "id": "KkgllnIbE7Ws",
        "outputId": "70d94c28-33dd-4e92-c20f-905b1465ad3f"
      },
      "execution_count": 7,
      "outputs": [
        {
          "output_type": "stream",
          "name": "stdout",
          "text": [
            "+----------+---------+----------------+-------------+------+----------------+---------+----------+\n",
            "|EmployeeID|ManagerID|           Title|MaritalStatus|Gender|        HireDate|     Dept| Job Grade|\n",
            "+----------+---------+----------------+-------------+------+----------------+---------+----------+\n",
            "|         1|       16|  Gustavo Achong|            M|     M|02-02-2013 00:00|    Sales|     Admin|\n",
            "|         2|        6|  Catherine Abel|            S|     M|31-08-2013 00:00|    Sales|Management|\n",
            "|         3|       12| Kim Abercrombie|            M|     M|16-06-2014 00:00|  Finance|     Admin|\n",
            "|         4|        3|Humberto Acevedo|            S|     M|10-07-2014 00:00|Logistics|     Admin|\n",
            "+----------+---------+----------------+-------------+------+----------------+---------+----------+\n",
            "only showing top 4 rows\n",
            "\n"
          ]
        }
      ]
    },
    {
      "cell_type": "code",
      "source": [
        "training.show(4)"
      ],
      "metadata": {
        "colab": {
          "base_uri": "https://localhost:8080/"
        },
        "id": "N1UeG97RFkmI",
        "outputId": "340b3638-2ffb-4c95-84d6-556570aac05e"
      },
      "execution_count": 8,
      "outputs": [
        {
          "output_type": "stream",
          "name": "stdout",
          "text": [
            "+----------+-----------+--------------------+-----------+----+--------------------+\n",
            "|Start Date|Course Code|         Course Name|Employee ID|Cost|            Supplier|\n",
            "+----------+-----------+--------------------+-----------+----+--------------------+\n",
            "|18-09-2015|          1|Communication Wor...|          1|1300|Communication Exp...|\n",
            "|18-09-2015|          1|Communication Wor...|          4|1300|Communication Exp...|\n",
            "|18-09-2015|          1|Communication Wor...|         25|1300|Communication Exp...|\n",
            "|18-09-2015|          1|Communication Wor...|         33|1300|Communication Exp...|\n",
            "+----------+-----------+--------------------+-----------+----+--------------------+\n",
            "only showing top 4 rows\n",
            "\n"
          ]
        }
      ]
    },
    {
      "cell_type": "code",
      "source": [
        "emp_training_inner = employee.join(training, employee['EmployeeID'] == training['Employee ID'], \"inner\")"
      ],
      "metadata": {
        "id": "C0IbCE5HFqYc"
      },
      "execution_count": 13,
      "outputs": []
    },
    {
      "cell_type": "code",
      "source": [
        "emp_training_inner.show(3)"
      ],
      "metadata": {
        "colab": {
          "base_uri": "https://localhost:8080/"
        },
        "id": "Z3c6Gv-WKBJG",
        "outputId": "6f855784-f0b2-4f95-ac54-e2c2b4ec1de4"
      },
      "execution_count": 14,
      "outputs": [
        {
          "output_type": "stream",
          "name": "stdout",
          "text": [
            "+----------+---------+----------------+-------------+------+----------------+----------+----------+----------+-----------+--------------------+-----------+----+--------------------+\n",
            "|EmployeeID|ManagerID|           Title|MaritalStatus|Gender|        HireDate|      Dept| Job Grade|Start Date|Course Code|         Course Name|Employee ID|Cost|            Supplier|\n",
            "+----------+---------+----------------+-------------+------+----------------+----------+----------+----------+-----------+--------------------+-----------+----+--------------------+\n",
            "|         1|       16|  Gustavo Achong|            M|     M|02-02-2013 00:00|     Sales|     Admin|18-09-2015|          1|Communication Wor...|          1|1300|Communication Exp...|\n",
            "|         4|        3|Humberto Acevedo|            S|     M|10-07-2014 00:00| Logistics|     Admin|18-09-2015|          1|Communication Wor...|          4|1300|Communication Exp...|\n",
            "|        25|       21|   Phyllis Allen|            S|     M|09-07-2015 00:00|Production|Operations|18-09-2015|          1|Communication Wor...|         25|1300|Communication Exp...|\n",
            "+----------+---------+----------------+-------------+------+----------------+----------+----------+----------+-----------+--------------------+-----------+----+--------------------+\n",
            "only showing top 3 rows\n",
            "\n"
          ]
        }
      ]
    },
    {
      "cell_type": "code",
      "source": [
        "print(len(list(employee.columns)))\n",
        "print(len(list(training.columns)))\n",
        "print(len(list(emp_training.columns)))"
      ],
      "metadata": {
        "colab": {
          "base_uri": "https://localhost:8080/"
        },
        "id": "gWHnw7NxKKvb",
        "outputId": "a61013e6-273a-4723-ac26-38ad5eb4389e"
      },
      "execution_count": 15,
      "outputs": [
        {
          "output_type": "stream",
          "name": "stdout",
          "text": [
            "8\n",
            "6\n",
            "14\n"
          ]
        }
      ]
    },
    {
      "cell_type": "code",
      "source": [
        "# if column names are same in both datasets, you can write it in easier format as follows\n",
        "# emp_training_inner = employee.join(training, EmployeeID, inner)"
      ],
      "metadata": {
        "id": "90y9mcBpWME8"
      },
      "execution_count": 12,
      "outputs": []
    },
    {
      "cell_type": "code",
      "source": [
        "emp_training_left = employee.join(training, employee['EmployeeID'] == training['Employee ID'], \"left\")"
      ],
      "metadata": {
        "id": "1nmGk5gs1JbF"
      },
      "execution_count": 16,
      "outputs": []
    },
    {
      "cell_type": "code",
      "source": [
        "emp_training_left.show(4)"
      ],
      "metadata": {
        "colab": {
          "base_uri": "https://localhost:8080/"
        },
        "id": "aliAHOol1c8c",
        "outputId": "39358372-0743-4b53-918f-e2f83b877ec2"
      },
      "execution_count": 17,
      "outputs": [
        {
          "output_type": "stream",
          "name": "stdout",
          "text": [
            "+----------+---------+--------------+-------------+------+----------------+-----+---------+----------+-----------+--------------------+-----------+----+--------------------+\n",
            "|EmployeeID|ManagerID|         Title|MaritalStatus|Gender|        HireDate| Dept|Job Grade|Start Date|Course Code|         Course Name|Employee ID|Cost|            Supplier|\n",
            "+----------+---------+--------------+-------------+------+----------------+-----+---------+----------+-----------+--------------------+-----------+----+--------------------+\n",
            "|         1|       16|Gustavo Achong|            M|     M|02-02-2013 00:00|Sales|    Admin|17-09-2017|          1|Communication Wor...|          1|1300|Communication Exp...|\n",
            "|         1|       16|Gustavo Achong|            M|     M|02-02-2013 00:00|Sales|    Admin|25-06-2017|         16|   Computer Literacy|          1|1800|   Computer Trainers|\n",
            "|         1|       16|Gustavo Achong|            M|     M|02-02-2013 00:00|Sales|    Admin|24-12-2018|         16|   Computer Literacy|          1|2200|   Computer Trainers|\n",
            "|         1|       16|Gustavo Achong|            M|     M|02-02-2013 00:00|Sales|    Admin|17-09-2016|          1|Communication Wor...|          1|1300|Communication Exp...|\n",
            "+----------+---------+--------------+-------------+------+----------------+-----+---------+----------+-----------+--------------------+-----------+----+--------------------+\n",
            "only showing top 4 rows\n",
            "\n"
          ]
        }
      ]
    },
    {
      "cell_type": "code",
      "source": [
        "emp_training_right = employee.join(training, employee['EmployeeID'] == training['Employee ID'], \"right\")"
      ],
      "metadata": {
        "id": "XNktmmKp1f4I"
      },
      "execution_count": 18,
      "outputs": []
    },
    {
      "cell_type": "code",
      "source": [
        "#joins with selected columns\n",
        "emp_training_selectcols = employee.join(training, employee['EmployeeID'] == training['Employee ID'], \"inner\").select(employee['Title'], employee['MaritalStatus'])"
      ],
      "metadata": {
        "id": "xlW4XbKe1uff"
      },
      "execution_count": 20,
      "outputs": []
    },
    {
      "cell_type": "code",
      "source": [
        "emp_training_selectcols.show(4)"
      ],
      "metadata": {
        "colab": {
          "base_uri": "https://localhost:8080/"
        },
        "id": "pQnrCgQv2-N4",
        "outputId": "877ef734-d22c-4c83-8d68-c04c98584a99"
      },
      "execution_count": 21,
      "outputs": [
        {
          "output_type": "stream",
          "name": "stdout",
          "text": [
            "+----------------+-------------+\n",
            "|           Title|MaritalStatus|\n",
            "+----------------+-------------+\n",
            "|  Gustavo Achong|            M|\n",
            "|Humberto Acevedo|            S|\n",
            "|   Phyllis Allen|            S|\n",
            "|  Maxwell Amland|            S|\n",
            "+----------------+-------------+\n",
            "only showing top 4 rows\n",
            "\n"
          ]
        }
      ]
    },
    {
      "cell_type": "code",
      "source": [
        "#joins with filters\n",
        "employee.join(training, employee['EmployeeID'] == training['Employee ID'], \"right\").filter(col('Gender') == 'M').show(4)"
      ],
      "metadata": {
        "colab": {
          "base_uri": "https://localhost:8080/"
        },
        "id": "cFXxc7673gFS",
        "outputId": "eb4d18b8-8254-4c1a-a0f2-07cd0955b857"
      },
      "execution_count": 23,
      "outputs": [
        {
          "output_type": "stream",
          "name": "stdout",
          "text": [
            "+----------+---------+----------------+-------------+------+----------------+----------+----------+----------+-----------+--------------------+-----------+----+--------------------+\n",
            "|EmployeeID|ManagerID|           Title|MaritalStatus|Gender|        HireDate|      Dept| Job Grade|Start Date|Course Code|         Course Name|Employee ID|Cost|            Supplier|\n",
            "+----------+---------+----------------+-------------+------+----------------+----------+----------+----------+-----------+--------------------+-----------+----+--------------------+\n",
            "|         1|       16|  Gustavo Achong|            M|     M|02-02-2013 00:00|     Sales|     Admin|18-09-2015|          1|Communication Wor...|          1|1300|Communication Exp...|\n",
            "|         4|        3|Humberto Acevedo|            S|     M|10-07-2014 00:00| Logistics|     Admin|18-09-2015|          1|Communication Wor...|          4|1300|Communication Exp...|\n",
            "|        25|       21|   Phyllis Allen|            S|     M|09-07-2015 00:00|Production|Operations|18-09-2015|          1|Communication Wor...|         25|1300|Communication Exp...|\n",
            "|        33|      135|  Maxwell Amland|            S|     M|13-07-2015 00:00|     Sales|Operations|18-09-2015|          1|Communication Wor...|         33|1300|Communication Exp...|\n",
            "+----------+---------+----------------+-------------+------+----------------+----------+----------+----------+-----------+--------------------+-----------+----+--------------------+\n",
            "only showing top 4 rows\n",
            "\n"
          ]
        }
      ]
    },
    {
      "cell_type": "code",
      "source": [
        "employee.join(training, employee['EmployeeID'] == training['Employee ID'], \"right\").filter((col('Gender') == 'M') & (col('MaritalStatus') == 'S')).show(4)"
      ],
      "metadata": {
        "colab": {
          "base_uri": "https://localhost:8080/"
        },
        "id": "tPYDbUjH8hE0",
        "outputId": "15467d11-4315-4843-e1b2-e64bc1f995c9"
      },
      "execution_count": 36,
      "outputs": [
        {
          "output_type": "stream",
          "name": "stdout",
          "text": [
            "+----------+---------+----------------+-------------+------+----------------+----------+----------+----------+-----------+--------------------+-----------+----+--------------------+\n",
            "|EmployeeID|ManagerID|           Title|MaritalStatus|Gender|        HireDate|      Dept| Job Grade|Start Date|Course Code|         Course Name|Employee ID|Cost|            Supplier|\n",
            "+----------+---------+----------------+-------------+------+----------------+----------+----------+----------+-----------+--------------------+-----------+----+--------------------+\n",
            "|         4|        3|Humberto Acevedo|            S|     M|10-07-2014 00:00| Logistics|     Admin|18-09-2015|          1|Communication Wor...|          4|1300|Communication Exp...|\n",
            "|        25|       21|   Phyllis Allen|            S|     M|09-07-2015 00:00|Production|Operations|18-09-2015|          1|Communication Wor...|         25|1300|Communication Exp...|\n",
            "|        33|      135|  Maxwell Amland|            S|     M|13-07-2015 00:00|     Sales|Operations|18-09-2015|          1|Communication Wor...|         33|1300|Communication Exp...|\n",
            "|        44|      148|       John Ault|            S|     M|18-07-2015 00:00|     Sales|Operations|18-09-2015|          1|Communication Wor...|         44|1300|Communication Exp...|\n",
            "+----------+---------+----------------+-------------+------+----------------+----------+----------+----------+-----------+--------------------+-----------+----+--------------------+\n",
            "only showing top 4 rows\n",
            "\n"
          ]
        }
      ]
    },
    {
      "cell_type": "code",
      "source": [
        " # join with filters with selected columns\n",
        " # title, female employees, which course they took and cost of course\n",
        " # title| MaritalStatus| CourseName | Cost"
      ],
      "metadata": {
        "id": "ZSxExMqEH-ab"
      },
      "execution_count": 37,
      "outputs": []
    },
    {
      "cell_type": "code",
      "source": [
        "employee.join(training, employee['EmployeeID'] == training['Employee ID'], \"inner\").filter(col('Gender') == 'F').select(\"Title\" , \"MaritalStatus\").show(4, False)"
      ],
      "metadata": {
        "colab": {
          "base_uri": "https://localhost:8080/"
        },
        "id": "qGP4B2ElO2DK",
        "outputId": "ad651613-8ba9-44bb-bc61-20b785b0961f"
      },
      "execution_count": 42,
      "outputs": [
        {
          "output_type": "stream",
          "name": "stdout",
          "text": [
            "+--------------+-------------+\n",
            "|Title         |MaritalStatus|\n",
            "+--------------+-------------+\n",
            "|James Aguilar |S            |\n",
            "|Amy Alberts   |M            |\n",
            "|Milton Albury |M            |\n",
            "|Margaret Smith|S            |\n",
            "+--------------+-------------+\n",
            "only showing top 4 rows\n",
            "\n"
          ]
        }
      ]
    },
    {
      "cell_type": "code",
      "source": [
        "rows = [(1, \"Sumaya\", 3), (2, \"Ibrahim\", 1), (3, \"Rahman\", None), (4, \"Tabu\", 1)]\n",
        "columns = [\"EID\", \"Name\", \"MID\"]"
      ],
      "metadata": {
        "id": "VlQkcaa2SaCC"
      },
      "execution_count": 54,
      "outputs": []
    },
    {
      "cell_type": "code",
      "source": [
        "df = spark.createDataFrame(rows, columns)"
      ],
      "metadata": {
        "id": "bkHexAVSW27o"
      },
      "execution_count": 55,
      "outputs": []
    },
    {
      "cell_type": "code",
      "source": [
        "type(df)"
      ],
      "metadata": {
        "colab": {
          "base_uri": "https://localhost:8080/"
        },
        "id": "ugJgbUCBXGQf",
        "outputId": "6c590c63-a73c-4bb6-cc07-d9219aa18240"
      },
      "execution_count": 56,
      "outputs": [
        {
          "output_type": "execute_result",
          "data": {
            "text/plain": [
              "pyspark.sql.dataframe.DataFrame"
            ]
          },
          "metadata": {},
          "execution_count": 56
        }
      ]
    },
    {
      "cell_type": "code",
      "source": [
        "df.show(5)"
      ],
      "metadata": {
        "colab": {
          "base_uri": "https://localhost:8080/"
        },
        "id": "S17qHN6fZsBO",
        "outputId": "7aa52fae-b8b6-46f8-c33a-04dbced6b5ba"
      },
      "execution_count": 57,
      "outputs": [
        {
          "output_type": "stream",
          "name": "stdout",
          "text": [
            "+---+-------+----+\n",
            "|EID|   Name| MID|\n",
            "+---+-------+----+\n",
            "|  1| Sumaya|   3|\n",
            "|  2|Ibrahim|   1|\n",
            "|  3| Rahman|NULL|\n",
            "|  4|   Tabu|   1|\n",
            "+---+-------+----+\n",
            "\n"
          ]
        }
      ]
    },
    {
      "cell_type": "code",
      "source": [
        "df1 = df.alias(\"a\").join(df.alias(\"b\"), col(\"a.MID\") == col(\"b.EID\"), \"left\")"
      ],
      "metadata": {
        "id": "y-tCeDdSZ2Ju"
      },
      "execution_count": 60,
      "outputs": []
    },
    {
      "cell_type": "code",
      "source": [
        "df1.show(5)"
      ],
      "metadata": {
        "colab": {
          "base_uri": "https://localhost:8080/"
        },
        "id": "tME-KOAcjFWa",
        "outputId": "e77ff613-7e0a-4c0a-c34d-da9f75cdd894"
      },
      "execution_count": 61,
      "outputs": [
        {
          "output_type": "stream",
          "name": "stdout",
          "text": [
            "+---+-------+----+----+------+----+\n",
            "|EID|   Name| MID| EID|  Name| MID|\n",
            "+---+-------+----+----+------+----+\n",
            "|  3| Rahman|NULL|NULL|  NULL|NULL|\n",
            "|  2|Ibrahim|   1|   1|Sumaya|   3|\n",
            "|  4|   Tabu|   1|   1|Sumaya|   3|\n",
            "|  1| Sumaya|   3|   3|Rahman|NULL|\n",
            "+---+-------+----+----+------+----+\n",
            "\n"
          ]
        }
      ]
    },
    {
      "cell_type": "code",
      "source": [
        "df1 = df.alias(\"a\").join(df.alias(\"b\"), col(\"a.MID\") == col(\"b.EID\"), \"left\").select(\"a.Name\", col(\"b.Name\").alias(\"Manager_Name\"))"
      ],
      "metadata": {
        "id": "6JfP-ACTjRzk"
      },
      "execution_count": 63,
      "outputs": []
    },
    {
      "cell_type": "code",
      "source": [
        "df1.show(5)"
      ],
      "metadata": {
        "colab": {
          "base_uri": "https://localhost:8080/"
        },
        "id": "rIqB_lLKmsfI",
        "outputId": "4f5d4258-ea89-42c1-816a-a6078970c521"
      },
      "execution_count": 64,
      "outputs": [
        {
          "output_type": "stream",
          "name": "stdout",
          "text": [
            "+-------+------------+\n",
            "|   Name|Manager_Name|\n",
            "+-------+------------+\n",
            "| Rahman|        NULL|\n",
            "|Ibrahim|      Sumaya|\n",
            "|   Tabu|      Sumaya|\n",
            "| Sumaya|      Rahman|\n",
            "+-------+------------+\n",
            "\n"
          ]
        }
      ]
    },
    {
      "cell_type": "code",
      "source": [],
      "metadata": {
        "id": "auD8wDRjmyV-"
      },
      "execution_count": null,
      "outputs": []
    }
  ]
}